{
 "cells": [
  {
   "cell_type": "code",
   "execution_count": 1,
   "metadata": {},
   "outputs": [],
   "source": [
    "from ortools.linear_solver import pywraplp"
   ]
  },
  {
   "cell_type": "code",
   "execution_count": 40,
   "metadata": {},
   "outputs": [
    {
     "name": "stdout",
     "output_type": "stream",
     "text": [
      "20\n"
     ]
    }
   ],
   "source": [
    "#data\n",
    "days = 5\n",
    "slots_per_day = 4\n",
    "nb_resources = 3\n",
    "nb_projects = 4\n",
    "\n",
    "squash_factor= 1.2\n",
    "\n",
    "requested_slots_per_project = [4,5,3,4]\n",
    "\n",
    "total_time_slots = days * slots_per_day\n",
    "print(total_time_slots)"
   ]
  },
  {
   "cell_type": "code",
   "execution_count": 41,
   "metadata": {},
   "outputs": [],
   "source": [
    "# Create the MIP solver\n",
    "solver = pywraplp.Solver.CreateSolver('SCIP') # MIXED_INTEGER_PROGRAMMING"
   ]
  },
  {
   "cell_type": "code",
   "execution_count": 42,
   "metadata": {},
   "outputs": [],
   "source": [
    "# variables definition\n",
    "\n",
    "assignation = {}\n",
    "for r in range(nb_resources):\n",
    "    for p in range(nb_projects):\n",
    "        for t in range(total_time_slots):\n",
    "            assignation[(r, p, t)] = solver.BoolVar(f\"assignation_r{r}_p{p}_t{t}\")\n",
    "zs = {}\n",
    "zf = {}\n",
    "for p in range(nb_projects):\n",
    "    zs[(p)] = solver.IntVar(0, total_time_slots, f\"zs_p{p}\")\n",
    "    zf[(p)] = solver.IntVar(0, total_time_slots, f\"zf_p{p}\")\n",
    "\n",
    "y = solver.IntVar(0, total_time_slots, f\"y\")"
   ]
  },
  {
   "cell_type": "code",
   "execution_count": 43,
   "metadata": {},
   "outputs": [
    {
     "name": "stdout",
     "output_type": "stream",
     "text": [
      "Number of variables = 249\n"
     ]
    }
   ],
   "source": [
    "print(\"Number of variables =\", solver.NumVariables())"
   ]
  },
  {
   "cell_type": "code",
   "execution_count": 44,
   "metadata": {},
   "outputs": [],
   "source": [
    "# Define the objective function\n",
    "objective = solver.Objective()\n",
    "objective.SetCoefficient(y, 1)\n",
    "objective.SetMinimization()\n"
   ]
  },
  {
   "cell_type": "code",
   "execution_count": 45,
   "metadata": {},
   "outputs": [],
   "source": [
    "# constraints\n",
    "# Define constraint: Total working time for each project is equal to 10\n",
    "for p in range(nb_projects):\n",
    "    solver.Add(sum(assignation[(r, p, t)] for r in range(nb_resources) for t in range(total_time_slots)) == requested_slots_per_project[p])\n"
   ]
  },
  {
   "cell_type": "code",
   "execution_count": 46,
   "metadata": {},
   "outputs": [],
   "source": [
    "for p in range(nb_projects):\n",
    "    for t in range(total_time_slots):\n",
    "        solver.Add(t * assignation[(r,p,t)] <= zf[p])\n",
    "\n",
    "for p in range(nb_projects):\n",
    "    for t in range(total_time_slots):\n",
    "        solver.Add(zs[p] <= t*assignation[(r,p,t)]+(1-assignation[(r,p,t)])*99*total_time_slots)\n",
    "\n",
    "# constraint assign lower bound of y\n",
    "for r in range(nb_resources):\n",
    "    for p in range(nb_projects):\n",
    "        for t in range(total_time_slots):\n",
    "            solver.Add(t * assignation[(r,p,t)] <= y)\n",
    "\n",
    "for p in range(nb_projects):\n",
    "    solver.Add(zf[p]-zs[p] <= requested_slots_per_project[p]*squash_factor)"
   ]
  },
  {
   "cell_type": "code",
   "execution_count": 47,
   "metadata": {},
   "outputs": [
    {
     "name": "stdout",
     "output_type": "stream",
     "text": [
      "408\n"
     ]
    }
   ],
   "source": [
    "print(solver.NumConstraints())"
   ]
  },
  {
   "cell_type": "code",
   "execution_count": 48,
   "metadata": {},
   "outputs": [
    {
     "data": {
      "text/plain": [
       "0"
      ]
     },
     "execution_count": 48,
     "metadata": {},
     "output_type": "execute_result"
    }
   ],
   "source": [
    "solver.Solve()"
   ]
  },
  {
   "cell_type": "code",
   "execution_count": 53,
   "metadata": {},
   "outputs": [
    {
     "name": "stdout",
     "output_type": "stream",
     "text": [
      "Objective value = 1.0\n",
      "x = 4.0\n",
      "x = 6.0\n",
      "x = 3.0\n",
      "x = 4.0\n",
      "x = 1.0\n"
     ]
    }
   ],
   "source": [
    "print('Objective value =', solver.Objective().Value())\n",
    "print('x =', zf[0].solution_value())\n",
    "print('x =', zf[1].solution_value())\n",
    "print('x =', zf[2].solution_value())\n",
    "print('x =', zf[3].solution_value())\n",
    "print('x =', y.solution_value())\n",
    "\n"
   ]
  }
 ],
 "metadata": {
  "kernelspec": {
   "display_name": "Python 3",
   "language": "python",
   "name": "python3"
  },
  "language_info": {
   "codemirror_mode": {
    "name": "ipython",
    "version": 3
   },
   "file_extension": ".py",
   "mimetype": "text/x-python",
   "name": "python",
   "nbconvert_exporter": "python",
   "pygments_lexer": "ipython3",
   "version": "3.10.12"
  }
 },
 "nbformat": 4,
 "nbformat_minor": 2
}
