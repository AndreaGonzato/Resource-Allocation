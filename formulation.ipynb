{
 "cells": [
  {
   "cell_type": "code",
   "execution_count": 1,
   "metadata": {},
   "outputs": [],
   "source": [
    "import numpy as np\n",
    "import pandas as pd\n",
    "\n",
    "from typing import List\n",
    "\n",
    "from Project import Project\n",
    "from Resource import Resource\n",
    "from data_generator import *\n",
    "\n",
    "from ortools.linear_solver import pywraplp"
   ]
  },
  {
   "cell_type": "code",
   "execution_count": 29,
   "metadata": {},
   "outputs": [
    {
     "name": "stdout",
     "output_type": "stream",
     "text": [
      "60\n",
      "assignation resource (row) x projects (col)\n",
      "   0  1  2  3\n",
      "0  1  0  1  1\n",
      "1  0  0  0  1\n",
      "2  0  1  1  1\n",
      "requested_slots_per_project:  [8, 9, 9, 12]\n",
      "Project{id : 0, requested_slot : 8, assigned_resources: [Resource{id : 0}] }\n",
      "Project{id : 1, requested_slot : 9, assigned_resources: [Resource{id : 2}] }\n",
      "Project{id : 2, requested_slot : 9, assigned_resources: [Resource{id : 0}, Resource{id : 2}] }\n",
      "Project{id : 3, requested_slot : 12, assigned_resources: [Resource{id : 0}, Resource{id : 1}, Resource{id : 2}] }\n"
     ]
    }
   ],
   "source": [
    "#data\n",
    "days = 5\n",
    "slots_per_day = 4\n",
    "nb_resources = 3\n",
    "nb_projects = 4\n",
    "\n",
    "squash_factor= 1 # value that indicate how much to squash the planning of the project. It need to be >= 1\n",
    "\n",
    "# calculate data\n",
    "total_time_slots = days * slots_per_day\n",
    "BIG_M = max(2*total_time_slots, 99)\n",
    "max_total_allocation = total_time_slots * nb_resources\n",
    "print(max_total_allocation)\n",
    "\n",
    "# create all the resources\n",
    "resources:List[Resource] = []\n",
    "for r in range(nb_resources):\n",
    "    resources.append(Resource(r))\n",
    "\n",
    "#create assignation matrix resources x projects\n",
    "assignation = generate_random_assignation_matrix(nb_resources, nb_projects)\n",
    "assignation_df = pd.DataFrame(assignation)\n",
    "print(\"assignation resource (row) x projects (col)\")\n",
    "print(assignation_df)\n",
    "\n",
    "# create project request\n",
    "requested_slots_per_project = generate_random_requested_slots_per_project(nb_projects, max_total_allocation)\n",
    "print(\"requested_slots_per_project: \", requested_slots_per_project)\n",
    "\n",
    "\n",
    "#create projects\n",
    "projects: List[Project] = []\n",
    "for p in range(nb_projects):\n",
    "    column_assignation = assignation[:, p]\n",
    "    assigned_resources_indices = np.where(column_assignation == 1)[0]\n",
    "    assigned_resources = [resources[i] for i in assigned_resources_indices]\n",
    "    projects.append(Project(p, requested_slots_per_project[p], assigned_resources))\n",
    "    print(projects[p])"
   ]
  },
  {
   "cell_type": "code",
   "execution_count": 30,
   "metadata": {},
   "outputs": [],
   "source": [
    "# Create the MIP solver\n",
    "solver = pywraplp.Solver.CreateSolver('SCIP') # MIXED_INTEGER_PROGRAMMING"
   ]
  },
  {
   "cell_type": "code",
   "execution_count": 31,
   "metadata": {},
   "outputs": [
    {
     "name": "stdout",
     "output_type": "stream",
     "text": [
      "{(0, 0, 0): X_p0_r0_t0, (0, 0, 1): X_p0_r0_t1, (0, 0, 2): X_p0_r0_t2, (0, 0, 3): X_p0_r0_t3, (0, 0, 4): X_p0_r0_t4, (0, 0, 5): X_p0_r0_t5, (0, 0, 6): X_p0_r0_t6, (0, 0, 7): X_p0_r0_t7, (0, 0, 8): X_p0_r0_t8, (0, 0, 9): X_p0_r0_t9, (0, 0, 10): X_p0_r0_t10, (0, 0, 11): X_p0_r0_t11, (0, 0, 12): X_p0_r0_t12, (0, 0, 13): X_p0_r0_t13, (0, 0, 14): X_p0_r0_t14, (0, 0, 15): X_p0_r0_t15, (0, 0, 16): X_p0_r0_t16, (0, 0, 17): X_p0_r0_t17, (0, 0, 18): X_p0_r0_t18, (0, 0, 19): X_p0_r0_t19, (0, 1, 0): X_p0_r1_t0, (0, 1, 1): X_p0_r1_t1, (0, 1, 2): X_p0_r1_t2, (0, 1, 3): X_p0_r1_t3, (0, 1, 4): X_p0_r1_t4, (0, 1, 5): X_p0_r1_t5, (0, 1, 6): X_p0_r1_t6, (0, 1, 7): X_p0_r1_t7, (0, 1, 8): X_p0_r1_t8, (0, 1, 9): X_p0_r1_t9, (0, 1, 10): X_p0_r1_t10, (0, 1, 11): X_p0_r1_t11, (0, 1, 12): X_p0_r1_t12, (0, 1, 13): X_p0_r1_t13, (0, 1, 14): X_p0_r1_t14, (0, 1, 15): X_p0_r1_t15, (0, 1, 16): X_p0_r1_t16, (0, 1, 17): X_p0_r1_t17, (0, 1, 18): X_p0_r1_t18, (0, 1, 19): X_p0_r1_t19, (0, 2, 0): X_p0_r2_t0, (0, 2, 1): X_p0_r2_t1, (0, 2, 2): X_p0_r2_t2, (0, 2, 3): X_p0_r2_t3, (0, 2, 4): X_p0_r2_t4, (0, 2, 5): X_p0_r2_t5, (0, 2, 6): X_p0_r2_t6, (0, 2, 7): X_p0_r2_t7, (0, 2, 8): X_p0_r2_t8, (0, 2, 9): X_p0_r2_t9, (0, 2, 10): X_p0_r2_t10, (0, 2, 11): X_p0_r2_t11, (0, 2, 12): X_p0_r2_t12, (0, 2, 13): X_p0_r2_t13, (0, 2, 14): X_p0_r2_t14, (0, 2, 15): X_p0_r2_t15, (0, 2, 16): X_p0_r2_t16, (0, 2, 17): X_p0_r2_t17, (0, 2, 18): X_p0_r2_t18, (0, 2, 19): X_p0_r2_t19, (1, 0, 0): X_p1_r0_t0, (1, 0, 1): X_p1_r0_t1, (1, 0, 2): X_p1_r0_t2, (1, 0, 3): X_p1_r0_t3, (1, 0, 4): X_p1_r0_t4, (1, 0, 5): X_p1_r0_t5, (1, 0, 6): X_p1_r0_t6, (1, 0, 7): X_p1_r0_t7, (1, 0, 8): X_p1_r0_t8, (1, 0, 9): X_p1_r0_t9, (1, 0, 10): X_p1_r0_t10, (1, 0, 11): X_p1_r0_t11, (1, 0, 12): X_p1_r0_t12, (1, 0, 13): X_p1_r0_t13, (1, 0, 14): X_p1_r0_t14, (1, 0, 15): X_p1_r0_t15, (1, 0, 16): X_p1_r0_t16, (1, 0, 17): X_p1_r0_t17, (1, 0, 18): X_p1_r0_t18, (1, 0, 19): X_p1_r0_t19, (1, 1, 0): X_p1_r1_t0, (1, 1, 1): X_p1_r1_t1, (1, 1, 2): X_p1_r1_t2, (1, 1, 3): X_p1_r1_t3, (1, 1, 4): X_p1_r1_t4, (1, 1, 5): X_p1_r1_t5, (1, 1, 6): X_p1_r1_t6, (1, 1, 7): X_p1_r1_t7, (1, 1, 8): X_p1_r1_t8, (1, 1, 9): X_p1_r1_t9, (1, 1, 10): X_p1_r1_t10, (1, 1, 11): X_p1_r1_t11, (1, 1, 12): X_p1_r1_t12, (1, 1, 13): X_p1_r1_t13, (1, 1, 14): X_p1_r1_t14, (1, 1, 15): X_p1_r1_t15, (1, 1, 16): X_p1_r1_t16, (1, 1, 17): X_p1_r1_t17, (1, 1, 18): X_p1_r1_t18, (1, 1, 19): X_p1_r1_t19, (1, 2, 0): X_p1_r2_t0, (1, 2, 1): X_p1_r2_t1, (1, 2, 2): X_p1_r2_t2, (1, 2, 3): X_p1_r2_t3, (1, 2, 4): X_p1_r2_t4, (1, 2, 5): X_p1_r2_t5, (1, 2, 6): X_p1_r2_t6, (1, 2, 7): X_p1_r2_t7, (1, 2, 8): X_p1_r2_t8, (1, 2, 9): X_p1_r2_t9, (1, 2, 10): X_p1_r2_t10, (1, 2, 11): X_p1_r2_t11, (1, 2, 12): X_p1_r2_t12, (1, 2, 13): X_p1_r2_t13, (1, 2, 14): X_p1_r2_t14, (1, 2, 15): X_p1_r2_t15, (1, 2, 16): X_p1_r2_t16, (1, 2, 17): X_p1_r2_t17, (1, 2, 18): X_p1_r2_t18, (1, 2, 19): X_p1_r2_t19, (2, 0, 0): X_p2_r0_t0, (2, 0, 1): X_p2_r0_t1, (2, 0, 2): X_p2_r0_t2, (2, 0, 3): X_p2_r0_t3, (2, 0, 4): X_p2_r0_t4, (2, 0, 5): X_p2_r0_t5, (2, 0, 6): X_p2_r0_t6, (2, 0, 7): X_p2_r0_t7, (2, 0, 8): X_p2_r0_t8, (2, 0, 9): X_p2_r0_t9, (2, 0, 10): X_p2_r0_t10, (2, 0, 11): X_p2_r0_t11, (2, 0, 12): X_p2_r0_t12, (2, 0, 13): X_p2_r0_t13, (2, 0, 14): X_p2_r0_t14, (2, 0, 15): X_p2_r0_t15, (2, 0, 16): X_p2_r0_t16, (2, 0, 17): X_p2_r0_t17, (2, 0, 18): X_p2_r0_t18, (2, 0, 19): X_p2_r0_t19, (2, 1, 0): X_p2_r1_t0, (2, 1, 1): X_p2_r1_t1, (2, 1, 2): X_p2_r1_t2, (2, 1, 3): X_p2_r1_t3, (2, 1, 4): X_p2_r1_t4, (2, 1, 5): X_p2_r1_t5, (2, 1, 6): X_p2_r1_t6, (2, 1, 7): X_p2_r1_t7, (2, 1, 8): X_p2_r1_t8, (2, 1, 9): X_p2_r1_t9, (2, 1, 10): X_p2_r1_t10, (2, 1, 11): X_p2_r1_t11, (2, 1, 12): X_p2_r1_t12, (2, 1, 13): X_p2_r1_t13, (2, 1, 14): X_p2_r1_t14, (2, 1, 15): X_p2_r1_t15, (2, 1, 16): X_p2_r1_t16, (2, 1, 17): X_p2_r1_t17, (2, 1, 18): X_p2_r1_t18, (2, 1, 19): X_p2_r1_t19, (2, 2, 0): X_p2_r2_t0, (2, 2, 1): X_p2_r2_t1, (2, 2, 2): X_p2_r2_t2, (2, 2, 3): X_p2_r2_t3, (2, 2, 4): X_p2_r2_t4, (2, 2, 5): X_p2_r2_t5, (2, 2, 6): X_p2_r2_t6, (2, 2, 7): X_p2_r2_t7, (2, 2, 8): X_p2_r2_t8, (2, 2, 9): X_p2_r2_t9, (2, 2, 10): X_p2_r2_t10, (2, 2, 11): X_p2_r2_t11, (2, 2, 12): X_p2_r2_t12, (2, 2, 13): X_p2_r2_t13, (2, 2, 14): X_p2_r2_t14, (2, 2, 15): X_p2_r2_t15, (2, 2, 16): X_p2_r2_t16, (2, 2, 17): X_p2_r2_t17, (2, 2, 18): X_p2_r2_t18, (2, 2, 19): X_p2_r2_t19, (3, 0, 0): X_p3_r0_t0, (3, 0, 1): X_p3_r0_t1, (3, 0, 2): X_p3_r0_t2, (3, 0, 3): X_p3_r0_t3, (3, 0, 4): X_p3_r0_t4, (3, 0, 5): X_p3_r0_t5, (3, 0, 6): X_p3_r0_t6, (3, 0, 7): X_p3_r0_t7, (3, 0, 8): X_p3_r0_t8, (3, 0, 9): X_p3_r0_t9, (3, 0, 10): X_p3_r0_t10, (3, 0, 11): X_p3_r0_t11, (3, 0, 12): X_p3_r0_t12, (3, 0, 13): X_p3_r0_t13, (3, 0, 14): X_p3_r0_t14, (3, 0, 15): X_p3_r0_t15, (3, 0, 16): X_p3_r0_t16, (3, 0, 17): X_p3_r0_t17, (3, 0, 18): X_p3_r0_t18, (3, 0, 19): X_p3_r0_t19, (3, 1, 0): X_p3_r1_t0, (3, 1, 1): X_p3_r1_t1, (3, 1, 2): X_p3_r1_t2, (3, 1, 3): X_p3_r1_t3, (3, 1, 4): X_p3_r1_t4, (3, 1, 5): X_p3_r1_t5, (3, 1, 6): X_p3_r1_t6, (3, 1, 7): X_p3_r1_t7, (3, 1, 8): X_p3_r1_t8, (3, 1, 9): X_p3_r1_t9, (3, 1, 10): X_p3_r1_t10, (3, 1, 11): X_p3_r1_t11, (3, 1, 12): X_p3_r1_t12, (3, 1, 13): X_p3_r1_t13, (3, 1, 14): X_p3_r1_t14, (3, 1, 15): X_p3_r1_t15, (3, 1, 16): X_p3_r1_t16, (3, 1, 17): X_p3_r1_t17, (3, 1, 18): X_p3_r1_t18, (3, 1, 19): X_p3_r1_t19, (3, 2, 0): X_p3_r2_t0, (3, 2, 1): X_p3_r2_t1, (3, 2, 2): X_p3_r2_t2, (3, 2, 3): X_p3_r2_t3, (3, 2, 4): X_p3_r2_t4, (3, 2, 5): X_p3_r2_t5, (3, 2, 6): X_p3_r2_t6, (3, 2, 7): X_p3_r2_t7, (3, 2, 8): X_p3_r2_t8, (3, 2, 9): X_p3_r2_t9, (3, 2, 10): X_p3_r2_t10, (3, 2, 11): X_p3_r2_t11, (3, 2, 12): X_p3_r2_t12, (3, 2, 13): X_p3_r2_t13, (3, 2, 14): X_p3_r2_t14, (3, 2, 15): X_p3_r2_t15, (3, 2, 16): X_p3_r2_t16, (3, 2, 17): X_p3_r2_t17, (3, 2, 18): X_p3_r2_t18, (3, 2, 19): X_p3_r2_t19}\n"
     ]
    }
   ],
   "source": [
    "# variables definition\n",
    "\n",
    "X = {}\n",
    "for p in range(nb_projects):\n",
    "    for r in range(nb_resources):\n",
    "        for t in range(total_time_slots):\n",
    "            X[(p, r, t)] = solver.BoolVar(f\"X_p{p}_r{r}_t{t}\")\n",
    "S = {}\n",
    "F = {}\n",
    "for p in range(nb_projects):\n",
    "    S[(p)] = solver.IntVar(0, total_time_slots, f\"S_p{p}\")\n",
    "    F[(p)] = solver.IntVar(0, total_time_slots, f\"F_p{p}\")\n",
    "\n",
    "Y = solver.IntVar(0, total_time_slots, f\"Y\")\n",
    "print(X)"
   ]
  },
  {
   "cell_type": "code",
   "execution_count": 32,
   "metadata": {},
   "outputs": [
    {
     "name": "stdout",
     "output_type": "stream",
     "text": [
      "Number of variables = 249\n"
     ]
    }
   ],
   "source": [
    "print(\"Number of variables =\", solver.NumVariables())\n"
   ]
  },
  {
   "cell_type": "code",
   "execution_count": 33,
   "metadata": {},
   "outputs": [],
   "source": [
    "# Define the objective function\n",
    "objective = solver.Objective()\n",
    "objective.SetCoefficient(Y, 1)\n",
    "objective.SetMinimization()\n"
   ]
  },
  {
   "cell_type": "code",
   "execution_count": 34,
   "metadata": {},
   "outputs": [],
   "source": [
    "# constraint 1\n",
    "# Define constraint: Total working time for each project respect the request\n",
    "for p in range(nb_projects):\n",
    "    solver.Add(sum(X[(p, r, t)] for r in range(nb_resources) for t in range(total_time_slots)) == projects[p].requested_slots)\n",
    "\n",
    "# constraint 2\n",
    "for p in range(nb_projects):\n",
    "    for r in range(nb_resources):\n",
    "        for t in range(total_time_slots):\n",
    "            solver.Add(t * X[(p, r, t)] <= F[p])\n",
    "\n",
    "# constraint 3\n",
    "for p in range(nb_projects):\n",
    "    for r in range(nb_resources):\n",
    "        for t in range(total_time_slots):\n",
    "            solver.Add(S[p] <= t*X[(p, r, t)]+(1-X[(p, r, t)])*BIG_M)\n",
    "\n",
    "# constraint 4\n",
    "# constraint assign lower bound of y\n",
    "for r in range(nb_resources):\n",
    "    for p in range(nb_projects):\n",
    "        for t in range(total_time_slots):\n",
    "            solver.Add(t * X[(p, r, t)] <= Y)\n",
    "\n",
    "# constraint 5\n",
    "for p in range(nb_projects):\n",
    "    solver.Add(F[p]-S[p]+1 <= projects[p].requested_slots*squash_factor)\n",
    "\n",
    "# constraint 6\n",
    "# constraints no double booking\n",
    "for r in range(nb_resources):\n",
    "    for t in range(total_time_slots):\n",
    "        solver.Add(sum(X[(p, r, t)] for p in range(nb_projects)) <= 1)\n",
    "\n",
    "# constraint 7\n",
    "# to each project only some resource can work on it\n",
    "for project in projects:\n",
    "    for resource in resources:\n",
    "        if(not project.is_resource_assigned(resource)):\n",
    "            for t in range(total_time_slots):\n",
    "                solver.Add(X[project.id, resource.id, t] == 0)\n",
    "        "
   ]
  },
  {
   "cell_type": "code",
   "execution_count": 35,
   "metadata": {},
   "outputs": [
    {
     "name": "stdout",
     "output_type": "stream",
     "text": [
      "788\n"
     ]
    }
   ],
   "source": [
    "print(solver.NumConstraints())"
   ]
  },
  {
   "cell_type": "code",
   "execution_count": 36,
   "metadata": {},
   "outputs": [
    {
     "data": {
      "text/plain": [
       "0"
      ]
     },
     "execution_count": 36,
     "metadata": {},
     "output_type": "execute_result"
    }
   ],
   "source": [
    "solver.Solve()"
   ]
  },
  {
   "cell_type": "code",
   "execution_count": 37,
   "metadata": {},
   "outputs": [
    {
     "name": "stdout",
     "output_type": "stream",
     "text": [
      "Objective value = 12.0\n",
      "project 0 : S 5.0  F: 12.0\n",
      "project 1 : S 0.0  F: 8.0\n",
      "project 2 : S 3.0  F: 11.0\n",
      "project 3 : S 1.0  F: 12.0\n",
      "Y = 12.0\n",
      "project:  0 resource: 0  time: 9\n",
      "project:  0 resource: 0  time: 10\n",
      "project:  0 resource: 0  time: 12\n",
      "project:  0 resource: 1  time: 10\n",
      "project:  0 resource: 2  time: 7\n",
      "project:  0 resource: 2  time: 8\n",
      "project:  0 resource: 2  time: 9\n",
      "project:  0 resource: 2  time: 10\n",
      "project:  1 resource: 0  time: 0\n",
      "project:  1 resource: 0  time: 4\n",
      "project:  1 resource: 0  time: 5\n",
      "project:  1 resource: 0  time: 6\n",
      "project:  1 resource: 1  time: 2\n",
      "project:  1 resource: 1  time: 3\n",
      "project:  1 resource: 1  time: 5\n",
      "project:  1 resource: 1  time: 7\n",
      "project:  1 resource: 2  time: 0\n",
      "project:  2 resource: 0  time: 8\n",
      "project:  2 resource: 0  time: 11\n",
      "project:  2 resource: 1  time: 6\n",
      "project:  2 resource: 1  time: 8\n",
      "project:  2 resource: 1  time: 9\n",
      "project:  2 resource: 1  time: 11\n",
      "project:  2 resource: 2  time: 5\n",
      "project:  2 resource: 2  time: 6\n",
      "project:  2 resource: 2  time: 11\n",
      "project:  3 resource: 0  time: 1\n",
      "project:  3 resource: 0  time: 2\n",
      "project:  3 resource: 0  time: 3\n",
      "project:  3 resource: 0  time: 7\n",
      "project:  3 resource: 1  time: 1\n",
      "project:  3 resource: 1  time: 4\n",
      "project:  3 resource: 1  time: 12\n",
      "project:  3 resource: 2  time: 1\n",
      "project:  3 resource: 2  time: 2\n",
      "project:  3 resource: 2  time: 3\n",
      "project:  3 resource: 2  time: 4\n",
      "project:  3 resource: 2  time: 12\n"
     ]
    }
   ],
   "source": [
    "print('Objective value =', solver.Objective().Value())\n",
    "for p in range(nb_projects):\n",
    "    print(f\"project {p} : S\", S[p].solution_value(), \" F:\",F[p].solution_value())\n",
    "\n",
    "print('Y =', Y.solution_value())\n",
    "\n",
    "\n",
    "# show all the assignation\n",
    "for p in range(nb_projects):\n",
    "    for r in range(nb_resources):\n",
    "        for t in range(total_time_slots):\n",
    "            if(X[(p, r, t)].solution_value() == 1.0):\n",
    "                print(\"project: \", p, \"resource:\", r, \" time:\",t)"
   ]
  },
  {
   "cell_type": "code",
   "execution_count": 38,
   "metadata": {},
   "outputs": [
    {
     "name": "stdout",
     "output_type": "stream",
     "text": [
      "    0    1    2    3    4    5    6    7    8    9    10   11   12\n",
      "0  0.0  0.0  0.0  0.0  0.0  0.0  0.0  0.0  0.0  1.0  1.0  0.0  1.0\n",
      "1  0.0  0.0  0.0  0.0  0.0  0.0  0.0  0.0  0.0  0.0  1.0  0.0  0.0\n",
      "2  0.0  0.0  0.0  0.0  0.0  0.0  0.0  1.0  1.0  1.0  1.0  0.0  0.0\n",
      "0  1.0  0.0  0.0  0.0  1.0  1.0  1.0  0.0  0.0  0.0  0.0  0.0  0.0\n",
      "1  0.0  0.0  1.0  1.0  0.0  1.0  0.0  1.0  0.0  0.0  0.0  0.0  0.0\n",
      "2  1.0  0.0  0.0  0.0  0.0  0.0  0.0  0.0  0.0  0.0  0.0  0.0  0.0\n",
      "0  0.0  0.0  0.0  0.0  0.0  0.0  0.0  0.0  1.0  0.0  0.0  1.0  0.0\n",
      "1  0.0  0.0  0.0  0.0  0.0  0.0  1.0  0.0  1.0  1.0  0.0  1.0  0.0\n",
      "2  0.0  0.0  0.0  0.0  0.0  1.0  1.0  0.0  0.0  0.0  0.0  1.0  0.0\n",
      "0  0.0  1.0  1.0  1.0  0.0  0.0  0.0  1.0  0.0  0.0  0.0  0.0  0.0\n",
      "1  0.0  1.0  0.0  0.0  1.0  0.0  0.0  0.0  0.0  0.0  0.0  0.0  1.0\n",
      "2  0.0  1.0  1.0  1.0  1.0  0.0  0.0  0.0  0.0  0.0  0.0  0.0  1.0\n"
     ]
    }
   ],
   "source": [
    "np_array = np.zeros((nb_projects, nb_resources, total_time_slots))\n",
    "\n",
    "# Populate the array with the values of the decision variables\n",
    "for p in range(nb_projects):\n",
    "    for r in range(nb_resources):\n",
    "        for t in range(total_time_slots):\n",
    "            if(X[(p, r, t)].solution_value() == 1.0):\n",
    "                np_array[p, r, t] = 1\n",
    "\n",
    "# cut the extra slot that are not used\n",
    "max_time_slot = int(Y.solution_value())\n",
    "\n",
    "sliced_array = np_array[:, :, :max_time_slot+1]\n",
    "\n",
    "reshaped_array = sliced_array.reshape(nb_projects * nb_resources, max_time_slot+1)\n",
    "\n",
    "df = pd.DataFrame(reshaped_array)\n",
    "df.index = [i for i in range(nb_resources)]*nb_projects # define the lef header\n",
    "\n",
    "print(df)\n"
   ]
  },
  {
   "cell_type": "code",
   "execution_count": 39,
   "metadata": {},
   "outputs": [
    {
     "data": {
      "image/png": "[encoded data removed]",
      "text/plain": [
       "<Figure size 720x576 with 1 Axes>"
      ]
     },
     "metadata": {
      "needs_background": "light"
     },
     "output_type": "display_data"
    }
   ],
   "source": [
    "import seaborn as sns\n",
    "import matplotlib.pyplot as plt\n",
    "\n",
    "# Create a heatmap\n",
    "plt.figure(figsize=(10, 8))  # Adjust the size as needed\n",
    "# Add lines for separation\n",
    "sns.heatmap(df, annot=True, cmap='coolwarm', fmt='g', cbar=False)\n",
    "group_end_indices = [3, 6, 9]  # Adjust this based on your data\n",
    "for index in group_end_indices:\n",
    "    plt.axhline(y=index, color='black', linewidth=2)\n",
    "\n",
    "# Adding titles and labels for clarity\n",
    "plt.title('Allocation')\n",
    "plt.xlabel('Time Slots')\n",
    "plt.ylabel('Projects')\n",
    "\n",
    "plt.show()"
   ]
  },
  {
   "cell_type": "code",
   "execution_count": 93,
   "metadata": {},
   "outputs": [
    {
     "name": "stdout",
     "output_type": "stream",
     "text": [
      "project 0 : S 1.0  F: 9.0\n",
      "project 1 : S 0.0  F: 5.0\n",
      "project 2 : S 0.0  F: 8.0\n",
      "project 3 : S 5.0  F: 9.0\n"
     ]
    }
   ],
   "source": [
    "for p in range(nb_projects):\n",
    "    print(f\"project {p} : S\", S[p].solution_value(), \" F:\",F[p].solution_value())"
   ]
  }
 ],
 "metadata": {
  "kernelspec": {
   "display_name": "Python 3",
   "language": "python",
   "name": "python3"
  },
  "language_info": {
   "codemirror_mode": {
    "name": "ipython",
    "version": 3
   },
   "file_extension": ".py",
   "mimetype": "text/x-python",
   "name": "python",
   "nbconvert_exporter": "python",
   "pygments_lexer": "ipython3",
   "version": "3.10.12"
  }
 },
 "nbformat": 4,
 "nbformat_minor": 2
}
