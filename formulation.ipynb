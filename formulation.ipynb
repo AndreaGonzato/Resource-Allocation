{
 "cells": [
  {
   "cell_type": "code",
   "execution_count": 1,
   "metadata": {},
   "outputs": [],
   "source": [
    "from ortools.linear_solver import pywraplp"
   ]
  },
  {
   "cell_type": "code",
   "execution_count": 88,
   "metadata": {},
   "outputs": [
    {
     "name": "stdout",
     "output_type": "stream",
     "text": [
      "20\n"
     ]
    }
   ],
   "source": [
    "#data\n",
    "days = 5\n",
    "slots_per_day = 4\n",
    "nb_resources = 3\n",
    "nb_projects = 4\n",
    "\n",
    "squash_factor= 1\n",
    "\n",
    "requested_slots_per_project = [4,5,3,4]\n",
    "\n",
    "total_time_slots = days * slots_per_day\n",
    "print(total_time_slots)"
   ]
  },
  {
   "cell_type": "code",
   "execution_count": 89,
   "metadata": {},
   "outputs": [],
   "source": [
    "# Create the MIP solver\n",
    "solver = pywraplp.Solver.CreateSolver('SCIP') # MIXED_INTEGER_PROGRAMMING"
   ]
  },
  {
   "cell_type": "code",
   "execution_count": 90,
   "metadata": {},
   "outputs": [],
   "source": [
    "# variables definition\n",
    "\n",
    "assignation = {}\n",
    "for r in range(nb_resources):\n",
    "    for p in range(nb_projects):\n",
    "        for t in range(total_time_slots):\n",
    "            assignation[(r, p, t)] = solver.BoolVar(f\"assignation_r{r}_p{p}_t{t}\")\n",
    "zs = {}\n",
    "zf = {}\n",
    "for p in range(nb_projects):\n",
    "    zs[(p)] = solver.IntVar(0, total_time_slots, f\"zs_p{p}\")\n",
    "    zf[(p)] = solver.IntVar(0, total_time_slots, f\"zf_p{p}\")\n",
    "\n",
    "y = solver.IntVar(0, total_time_slots, f\"y\")"
   ]
  },
  {
   "cell_type": "code",
   "execution_count": 91,
   "metadata": {},
   "outputs": [
    {
     "name": "stdout",
     "output_type": "stream",
     "text": [
      "Number of variables = 249\n"
     ]
    }
   ],
   "source": [
    "print(\"Number of variables =\", solver.NumVariables())"
   ]
  },
  {
   "cell_type": "code",
   "execution_count": 92,
   "metadata": {},
   "outputs": [],
   "source": [
    "# Define the objective function\n",
    "objective = solver.Objective()\n",
    "objective.SetCoefficient(y, 1)\n",
    "objective.SetMinimization()\n"
   ]
  },
  {
   "cell_type": "code",
   "execution_count": 93,
   "metadata": {},
   "outputs": [],
   "source": [
    "# constraints no double booking\n",
    "for r in range(nb_resources):\n",
    "    for t in range(total_time_slots):\n",
    "        solver.Add(sum(assignation[(r, p, t)] for p in range(nb_projects)) <= 1)\n"
   ]
  },
  {
   "cell_type": "code",
   "execution_count": 94,
   "metadata": {},
   "outputs": [],
   "source": [
    "# constraints\n",
    "# Define constraint: Total working time for each project is equal to 10\n",
    "for p in range(nb_projects):\n",
    "    solver.Add(sum(assignation[(r, p, t)] for r in range(nb_resources) for t in range(total_time_slots)) == requested_slots_per_project[p])\n"
   ]
  },
  {
   "cell_type": "code",
   "execution_count": 95,
   "metadata": {},
   "outputs": [],
   "source": [
    "for p in range(nb_projects):\n",
    "    for t in range(total_time_slots):\n",
    "        solver.Add(t * assignation[(r,p,t)] <= zf[p])\n",
    "\n",
    "for p in range(nb_projects):\n",
    "    for t in range(total_time_slots):\n",
    "        solver.Add(zs[p] <= t*assignation[(r,p,t)]+(1-assignation[(r,p,t)])*99*total_time_slots)\n",
    "\n",
    "# constraint assign lower bound of y\n",
    "for r in range(nb_resources):\n",
    "    for p in range(nb_projects):\n",
    "        for t in range(total_time_slots):\n",
    "            solver.Add(t * assignation[(r,p,t)] <= y)\n",
    "\n",
    "for p in range(nb_projects):\n",
    "    solver.Add(zf[p]-zs[p] <= requested_slots_per_project[p]*squash_factor)"
   ]
  },
  {
   "cell_type": "code",
   "execution_count": 96,
   "metadata": {},
   "outputs": [
    {
     "name": "stdout",
     "output_type": "stream",
     "text": [
      "468\n"
     ]
    }
   ],
   "source": [
    "print(solver.NumConstraints())"
   ]
  },
  {
   "cell_type": "code",
   "execution_count": 97,
   "metadata": {},
   "outputs": [
    {
     "data": {
      "text/plain": [
       "0"
      ]
     },
     "execution_count": 97,
     "metadata": {},
     "output_type": "execute_result"
    }
   ],
   "source": [
    "solver.Solve()"
   ]
  },
  {
   "cell_type": "code",
   "execution_count": 108,
   "metadata": {},
   "outputs": [
    {
     "name": "stdout",
     "output_type": "stream",
     "text": [
      "Objective value = 5.0\n",
      "p=0 zs: 0.0  zf: 4.0\n",
      "p=1 zs: 1.0  zf: 6.0\n",
      "p=2 zs: 8.0  zf: 11.0\n",
      "p=3 zs: 0.0  zf: 4.0\n",
      "z = 5.0\n",
      "resource: 0  project:  1  time: 0\n",
      "resource: 0  project:  1  time: 1\n",
      "resource: 0  project:  1  time: 2\n",
      "resource: 0  project:  1  time: 3\n",
      "resource: 0  project:  1  time: 4\n",
      "resource: 0  project:  2  time: 5\n",
      "resource: 1  project:  0  time: 4\n",
      "resource: 1  project:  0  time: 5\n",
      "resource: 1  project:  2  time: 0\n",
      "resource: 1  project:  2  time: 1\n",
      "resource: 1  project:  3  time: 2\n",
      "resource: 1  project:  3  time: 3\n",
      "resource: 2  project:  0  time: 0\n",
      "resource: 2  project:  0  time: 1\n",
      "resource: 2  project:  3  time: 2\n",
      "resource: 2  project:  3  time: 3\n"
     ]
    }
   ],
   "source": [
    "print('Objective value =', solver.Objective().Value())\n",
    "print('p=0 zs:', zs[0].solution_value(), \" zf:\",zf[0].solution_value())\n",
    "print('p=1 zs:', zs[1].solution_value(), \" zf:\",zf[1].solution_value())\n",
    "print('p=2 zs:', zs[2].solution_value(), \" zf:\",zf[2].solution_value())\n",
    "print('p=3 zs:', zs[3].solution_value(), \" zf:\",zf[3].solution_value())\n",
    "\n",
    "print('z =', y.solution_value())\n",
    "\n",
    "for r in range(nb_resources):\n",
    "    for p in range(nb_projects):\n",
    "        for t in range(total_time_slots):\n",
    "            if(assignation[(r, p, t)].solution_value() == 1.0):\n",
    "                print(\"resource:\", r, \" project: \", p, \" time:\",t)\n",
    "\n",
    "#print(assignation[2,0,0].solution_value())\n",
    "\n"
   ]
  }
 ],
 "metadata": {
  "kernelspec": {
   "display_name": "Python 3",
   "language": "python",
   "name": "python3"
  },
  "language_info": {
   "codemirror_mode": {
    "name": "ipython",
    "version": 3
   },
   "file_extension": ".py",
   "mimetype": "text/x-python",
   "name": "python",
   "nbconvert_exporter": "python",
   "pygments_lexer": "ipython3",
   "version": "3.10.12"
  }
 },
 "nbformat": 4,
 "nbformat_minor": 2
}
