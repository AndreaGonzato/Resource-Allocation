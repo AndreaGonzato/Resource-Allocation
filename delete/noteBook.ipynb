{
 "cells": [
  {
   "cell_type": "code",
   "execution_count": 3,
   "metadata": {},
   "outputs": [],
   "source": [
    "from Resource import Resource\n",
    "from TimeTable import TimeTable\n",
    "from Event import Event\n",
    "from Role import Role\n",
    "from Person import Person\n",
    "from EventScheduling import EventScheduling\n",
    "\n",
    "from ortools.linear_solver import pywraplp"
   ]
  },
  {
   "cell_type": "code",
   "execution_count": 5,
   "metadata": {},
   "outputs": [],
   "source": [
    "days_displayed = 5\n",
    "slots = [x for x in range(8, 18)]"
   ]
  },
  {
   "cell_type": "code",
   "execution_count": 6,
   "metadata": {},
   "outputs": [],
   "source": [
    "arturo = Resource(\"Arturo\")\n",
    "ben = Resource(\"Ben\")\n",
    "giovanni = Resource(\"Giovanni\")\n",
    "resources = [arturo, ben, giovanni]\n",
    "\n",
    "\n",
    "for resource in resources:\n",
    "    resource.init_calendar(days=days_displayed, slots=slots)\n",
    "\n",
    "\n",
    "\n",
    "#set unavailability\n",
    "arturo.set_unavailability(day=3, slot_index=0)\n",
    "arturo.set_unavailability(day=3, slot_index=1)\n",
    "\n",
    "ben.set_unavailability(day=2, slot_index=1)"
   ]
  },
  {
   "cell_type": "code",
   "execution_count": 7,
   "metadata": {},
   "outputs": [],
   "source": [
    "wiet = Person(\"Wiet\", Role.MANAGER)\n",
    "bertrand = Person(\"Bertrand\", Role.ENGINEER)\n",
    "andrea = Person(\"Andrea\", Role.INTERN)\n",
    "\n",
    "requested_hours = [2, 3, 5]\n",
    "\n",
    "event1 = Event(\"event1\", responsible=wiet, resources=[arturo, ben], requested_hours=requested_hours[0])\n",
    "event2 = Event(\"event2\", responsible=bertrand, resources=[arturo, giovanni], requested_hours=requested_hours[1])\n",
    "event3 = Event(\"event3\", responsible=andrea, resources=[arturo, giovanni], requested_hours=requested_hours[2])"
   ]
  },
  {
   "cell_type": "code",
   "execution_count": 8,
   "metadata": {},
   "outputs": [
    {
     "name": "stdout",
     "output_type": "stream",
     "text": [
      "    day:0  day:1  day:2  day:3  day:4\n",
      "8       0      0      0     -1      0\n",
      "9       0      0      0     -1      0\n",
      "10      0      0      0      0      0\n",
      "11      0      0      0      0      0\n",
      "12      0      0      0      0      0\n",
      "13      0      0      0      0      0\n",
      "14      0      0      0      0      0\n",
      "15      0      0      0      0      0\n",
      "16      0      0      0      0      0\n",
      "17      0      0      0      0      0\n",
      "    day:0  day:1  day:2  day:3  day:4\n",
      "8       0      0      0      0      0\n",
      "9       0      0     -1      0      0\n",
      "10      0      0      0      0      0\n",
      "11      0      0      0      0      0\n",
      "12      0      0      0      0      0\n",
      "13      0      0      0      0      0\n",
      "14      0      0      0      0      0\n",
      "15      0      0      0      0      0\n",
      "16      0      0      0      0      0\n",
      "17      0      0      0      0      0\n"
     ]
    }
   ],
   "source": [
    "es = EventScheduling(event1, days_displayed)\n",
    "es.print()"
   ]
  },
  {
   "cell_type": "markdown",
   "metadata": {},
   "source": [
    "- each resource should work for 80% of time\n",
    "- events who responsible person is a manager have a bigger priority of event of engineer > graduate > intern\n"
   ]
  },
  {
   "cell_type": "code",
   "execution_count": null,
   "metadata": {},
   "outputs": [],
   "source": [
    "# define the solver\n",
    "solver = pywraplp.Solver.CreateSolver(\"BOP\")\n",
    "solver = pywraplp.Solver.CreateSolver(\"SCIP\")"
   ]
  },
  {
   "cell_type": "code",
   "execution_count": null,
   "metadata": {},
   "outputs": [],
   "source": [
    "# define the variables"
   ]
  },
  {
   "cell_type": "code",
   "execution_count": null,
   "metadata": {},
   "outputs": [
    {
     "name": "stdout",
     "output_type": "stream",
     "text": [
      "Number of variables = 2\n",
      "Number of constraints = 3\n",
      "Solution:\n",
      "Objective value = 33.99999999999999\n",
      "x = 5.999999999999998\n",
      "y = 3.9999999999999996\n",
      "\n",
      "Advanced usage:\n",
      "Problem solved in 24.000000 milliseconds\n",
      "Problem solved in 2 iterations\n"
     ]
    }
   ],
   "source": [
    "\"\"\"Linear programming sample.\"\"\"\n",
    "# Instantiate a Glop solver, naming it LinearExample.\n",
    "solver = pywraplp.Solver.CreateSolver(\"GLOP\")\n",
    "if not solver:\n",
    "    print(\"ERROR\")\n",
    "\n",
    "# Create the two variables and let them take on any non-negative value.\n",
    "x = solver.NumVar(0, solver.infinity(), \"x\")\n",
    "y = solver.NumVar(0, solver.infinity(), \"y\")\n",
    "\n",
    "print(\"Number of variables =\", solver.NumVariables())\n",
    "\n",
    "# Constraint 0: x + 2y <= 14.\n",
    "solver.Add(x + 2 * y <= 14.0)\n",
    "\n",
    "# Constraint 1: 3x - y >= 0.\n",
    "solver.Add(3 * x - y >= 0.0)\n",
    "\n",
    "# Constraint 2: x - y <= 2.\n",
    "solver.Add(x - y <= 2.0)\n",
    "\n",
    "print(\"Number of constraints =\", solver.NumConstraints())\n",
    "\n",
    "# Objective function: 3x + 4y.\n",
    "solver.Maximize(3 * x + 4 * y)\n",
    "\n",
    "# Solve the system.\n",
    "status = solver.Solve()\n",
    "\n",
    "if status == pywraplp.Solver.OPTIMAL:\n",
    "    print(\"Solution:\")\n",
    "    print(\"Objective value =\", solver.Objective().Value())\n",
    "    print(\"x =\", x.solution_value())\n",
    "    print(\"y =\", y.solution_value())\n",
    "else:\n",
    "    print(\"The problem does not have an optimal solution.\")\n",
    "\n",
    "print(\"\\nAdvanced usage:\")\n",
    "print(\"Problem solved in %f milliseconds\" % solver.wall_time())\n",
    "print(\"Problem solved in %d iterations\" % solver.iterations())\n",
    "\n"
   ]
  }
 ],
 "metadata": {
  "kernelspec": {
   "display_name": "Python 3",
   "language": "python",
   "name": "python3"
  },
  "language_info": {
   "codemirror_mode": {
    "name": "ipython",
    "version": 3
   },
   "file_extension": ".py",
   "mimetype": "text/x-python",
   "name": "python",
   "nbconvert_exporter": "python",
   "pygments_lexer": "ipython3",
   "version": "3.10.12"
  }
 },
 "nbformat": 4,
 "nbformat_minor": 2
}
