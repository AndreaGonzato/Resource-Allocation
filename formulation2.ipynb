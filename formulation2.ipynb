{
 "cells": [
  {
   "cell_type": "code",
   "execution_count": 1,
   "metadata": {},
   "outputs": [],
   "source": [
    "from typing import List\n",
    "\n",
    "\n",
    "from Project import Project\n",
    "\n",
    "from ortools.linear_solver import pywraplp\n"
   ]
  },
  {
   "cell_type": "code",
   "execution_count": 2,
   "metadata": {},
   "outputs": [],
   "source": [
    "#data\n",
    "days = 5\n",
    "slots_per_day = 4\n",
    "nb_resources = 3\n",
    "nb_projects = 4\n",
    "\n",
    "requested_slots_per_project = [4,5,3,4] # TODO generate better data\n",
    "\n",
    "#create projects\n",
    "projects: List[Project] = []\n",
    "for i in range(nb_projects):\n",
    "    projects.append(Project(i, requested_slots_per_project[i]))\n",
    "\n",
    "\n",
    "squash_factor= 1\n",
    "\n",
    "\n",
    "total_time_slots = days * slots_per_day"
   ]
  },
  {
   "cell_type": "code",
   "execution_count": 45,
   "metadata": {},
   "outputs": [],
   "source": [
    "# Create the MIP solver\n",
    "solver = pywraplp.Solver.CreateSolver('SCIP') # MIXED_INTEGER_PROGRAMMING"
   ]
  },
  {
   "cell_type": "code",
   "execution_count": 46,
   "metadata": {},
   "outputs": [
    {
     "name": "stdout",
     "output_type": "stream",
     "text": [
      "{(0, 0, 0): X_p0_r0_t0, (0, 0, 1): X_p0_r0_t1, (0, 0, 2): X_p0_r0_t2, (0, 0, 3): X_p0_r0_t3, (0, 0, 4): X_p0_r0_t4, (0, 0, 5): X_p0_r0_t5, (0, 0, 6): X_p0_r0_t6, (0, 0, 7): X_p0_r0_t7, (0, 0, 8): X_p0_r0_t8, (0, 0, 9): X_p0_r0_t9, (0, 0, 10): X_p0_r0_t10, (0, 0, 11): X_p0_r0_t11, (0, 0, 12): X_p0_r0_t12, (0, 0, 13): X_p0_r0_t13, (0, 0, 14): X_p0_r0_t14, (0, 0, 15): X_p0_r0_t15, (0, 0, 16): X_p0_r0_t16, (0, 0, 17): X_p0_r0_t17, (0, 0, 18): X_p0_r0_t18, (0, 0, 19): X_p0_r0_t19, (0, 1, 0): X_p0_r1_t0, (0, 1, 1): X_p0_r1_t1, (0, 1, 2): X_p0_r1_t2, (0, 1, 3): X_p0_r1_t3, (0, 1, 4): X_p0_r1_t4, (0, 1, 5): X_p0_r1_t5, (0, 1, 6): X_p0_r1_t6, (0, 1, 7): X_p0_r1_t7, (0, 1, 8): X_p0_r1_t8, (0, 1, 9): X_p0_r1_t9, (0, 1, 10): X_p0_r1_t10, (0, 1, 11): X_p0_r1_t11, (0, 1, 12): X_p0_r1_t12, (0, 1, 13): X_p0_r1_t13, (0, 1, 14): X_p0_r1_t14, (0, 1, 15): X_p0_r1_t15, (0, 1, 16): X_p0_r1_t16, (0, 1, 17): X_p0_r1_t17, (0, 1, 18): X_p0_r1_t18, (0, 1, 19): X_p0_r1_t19, (0, 2, 0): X_p0_r2_t0, (0, 2, 1): X_p0_r2_t1, (0, 2, 2): X_p0_r2_t2, (0, 2, 3): X_p0_r2_t3, (0, 2, 4): X_p0_r2_t4, (0, 2, 5): X_p0_r2_t5, (0, 2, 6): X_p0_r2_t6, (0, 2, 7): X_p0_r2_t7, (0, 2, 8): X_p0_r2_t8, (0, 2, 9): X_p0_r2_t9, (0, 2, 10): X_p0_r2_t10, (0, 2, 11): X_p0_r2_t11, (0, 2, 12): X_p0_r2_t12, (0, 2, 13): X_p0_r2_t13, (0, 2, 14): X_p0_r2_t14, (0, 2, 15): X_p0_r2_t15, (0, 2, 16): X_p0_r2_t16, (0, 2, 17): X_p0_r2_t17, (0, 2, 18): X_p0_r2_t18, (0, 2, 19): X_p0_r2_t19, (1, 0, 0): X_p1_r0_t0, (1, 0, 1): X_p1_r0_t1, (1, 0, 2): X_p1_r0_t2, (1, 0, 3): X_p1_r0_t3, (1, 0, 4): X_p1_r0_t4, (1, 0, 5): X_p1_r0_t5, (1, 0, 6): X_p1_r0_t6, (1, 0, 7): X_p1_r0_t7, (1, 0, 8): X_p1_r0_t8, (1, 0, 9): X_p1_r0_t9, (1, 0, 10): X_p1_r0_t10, (1, 0, 11): X_p1_r0_t11, (1, 0, 12): X_p1_r0_t12, (1, 0, 13): X_p1_r0_t13, (1, 0, 14): X_p1_r0_t14, (1, 0, 15): X_p1_r0_t15, (1, 0, 16): X_p1_r0_t16, (1, 0, 17): X_p1_r0_t17, (1, 0, 18): X_p1_r0_t18, (1, 0, 19): X_p1_r0_t19, (1, 1, 0): X_p1_r1_t0, (1, 1, 1): X_p1_r1_t1, (1, 1, 2): X_p1_r1_t2, (1, 1, 3): X_p1_r1_t3, (1, 1, 4): X_p1_r1_t4, (1, 1, 5): X_p1_r1_t5, (1, 1, 6): X_p1_r1_t6, (1, 1, 7): X_p1_r1_t7, (1, 1, 8): X_p1_r1_t8, (1, 1, 9): X_p1_r1_t9, (1, 1, 10): X_p1_r1_t10, (1, 1, 11): X_p1_r1_t11, (1, 1, 12): X_p1_r1_t12, (1, 1, 13): X_p1_r1_t13, (1, 1, 14): X_p1_r1_t14, (1, 1, 15): X_p1_r1_t15, (1, 1, 16): X_p1_r1_t16, (1, 1, 17): X_p1_r1_t17, (1, 1, 18): X_p1_r1_t18, (1, 1, 19): X_p1_r1_t19, (1, 2, 0): X_p1_r2_t0, (1, 2, 1): X_p1_r2_t1, (1, 2, 2): X_p1_r2_t2, (1, 2, 3): X_p1_r2_t3, (1, 2, 4): X_p1_r2_t4, (1, 2, 5): X_p1_r2_t5, (1, 2, 6): X_p1_r2_t6, (1, 2, 7): X_p1_r2_t7, (1, 2, 8): X_p1_r2_t8, (1, 2, 9): X_p1_r2_t9, (1, 2, 10): X_p1_r2_t10, (1, 2, 11): X_p1_r2_t11, (1, 2, 12): X_p1_r2_t12, (1, 2, 13): X_p1_r2_t13, (1, 2, 14): X_p1_r2_t14, (1, 2, 15): X_p1_r2_t15, (1, 2, 16): X_p1_r2_t16, (1, 2, 17): X_p1_r2_t17, (1, 2, 18): X_p1_r2_t18, (1, 2, 19): X_p1_r2_t19, (2, 0, 0): X_p2_r0_t0, (2, 0, 1): X_p2_r0_t1, (2, 0, 2): X_p2_r0_t2, (2, 0, 3): X_p2_r0_t3, (2, 0, 4): X_p2_r0_t4, (2, 0, 5): X_p2_r0_t5, (2, 0, 6): X_p2_r0_t6, (2, 0, 7): X_p2_r0_t7, (2, 0, 8): X_p2_r0_t8, (2, 0, 9): X_p2_r0_t9, (2, 0, 10): X_p2_r0_t10, (2, 0, 11): X_p2_r0_t11, (2, 0, 12): X_p2_r0_t12, (2, 0, 13): X_p2_r0_t13, (2, 0, 14): X_p2_r0_t14, (2, 0, 15): X_p2_r0_t15, (2, 0, 16): X_p2_r0_t16, (2, 0, 17): X_p2_r0_t17, (2, 0, 18): X_p2_r0_t18, (2, 0, 19): X_p2_r0_t19, (2, 1, 0): X_p2_r1_t0, (2, 1, 1): X_p2_r1_t1, (2, 1, 2): X_p2_r1_t2, (2, 1, 3): X_p2_r1_t3, (2, 1, 4): X_p2_r1_t4, (2, 1, 5): X_p2_r1_t5, (2, 1, 6): X_p2_r1_t6, (2, 1, 7): X_p2_r1_t7, (2, 1, 8): X_p2_r1_t8, (2, 1, 9): X_p2_r1_t9, (2, 1, 10): X_p2_r1_t10, (2, 1, 11): X_p2_r1_t11, (2, 1, 12): X_p2_r1_t12, (2, 1, 13): X_p2_r1_t13, (2, 1, 14): X_p2_r1_t14, (2, 1, 15): X_p2_r1_t15, (2, 1, 16): X_p2_r1_t16, (2, 1, 17): X_p2_r1_t17, (2, 1, 18): X_p2_r1_t18, (2, 1, 19): X_p2_r1_t19, (2, 2, 0): X_p2_r2_t0, (2, 2, 1): X_p2_r2_t1, (2, 2, 2): X_p2_r2_t2, (2, 2, 3): X_p2_r2_t3, (2, 2, 4): X_p2_r2_t4, (2, 2, 5): X_p2_r2_t5, (2, 2, 6): X_p2_r2_t6, (2, 2, 7): X_p2_r2_t7, (2, 2, 8): X_p2_r2_t8, (2, 2, 9): X_p2_r2_t9, (2, 2, 10): X_p2_r2_t10, (2, 2, 11): X_p2_r2_t11, (2, 2, 12): X_p2_r2_t12, (2, 2, 13): X_p2_r2_t13, (2, 2, 14): X_p2_r2_t14, (2, 2, 15): X_p2_r2_t15, (2, 2, 16): X_p2_r2_t16, (2, 2, 17): X_p2_r2_t17, (2, 2, 18): X_p2_r2_t18, (2, 2, 19): X_p2_r2_t19, (3, 0, 0): X_p3_r0_t0, (3, 0, 1): X_p3_r0_t1, (3, 0, 2): X_p3_r0_t2, (3, 0, 3): X_p3_r0_t3, (3, 0, 4): X_p3_r0_t4, (3, 0, 5): X_p3_r0_t5, (3, 0, 6): X_p3_r0_t6, (3, 0, 7): X_p3_r0_t7, (3, 0, 8): X_p3_r0_t8, (3, 0, 9): X_p3_r0_t9, (3, 0, 10): X_p3_r0_t10, (3, 0, 11): X_p3_r0_t11, (3, 0, 12): X_p3_r0_t12, (3, 0, 13): X_p3_r0_t13, (3, 0, 14): X_p3_r0_t14, (3, 0, 15): X_p3_r0_t15, (3, 0, 16): X_p3_r0_t16, (3, 0, 17): X_p3_r0_t17, (3, 0, 18): X_p3_r0_t18, (3, 0, 19): X_p3_r0_t19, (3, 1, 0): X_p3_r1_t0, (3, 1, 1): X_p3_r1_t1, (3, 1, 2): X_p3_r1_t2, (3, 1, 3): X_p3_r1_t3, (3, 1, 4): X_p3_r1_t4, (3, 1, 5): X_p3_r1_t5, (3, 1, 6): X_p3_r1_t6, (3, 1, 7): X_p3_r1_t7, (3, 1, 8): X_p3_r1_t8, (3, 1, 9): X_p3_r1_t9, (3, 1, 10): X_p3_r1_t10, (3, 1, 11): X_p3_r1_t11, (3, 1, 12): X_p3_r1_t12, (3, 1, 13): X_p3_r1_t13, (3, 1, 14): X_p3_r1_t14, (3, 1, 15): X_p3_r1_t15, (3, 1, 16): X_p3_r1_t16, (3, 1, 17): X_p3_r1_t17, (3, 1, 18): X_p3_r1_t18, (3, 1, 19): X_p3_r1_t19, (3, 2, 0): X_p3_r2_t0, (3, 2, 1): X_p3_r2_t1, (3, 2, 2): X_p3_r2_t2, (3, 2, 3): X_p3_r2_t3, (3, 2, 4): X_p3_r2_t4, (3, 2, 5): X_p3_r2_t5, (3, 2, 6): X_p3_r2_t6, (3, 2, 7): X_p3_r2_t7, (3, 2, 8): X_p3_r2_t8, (3, 2, 9): X_p3_r2_t9, (3, 2, 10): X_p3_r2_t10, (3, 2, 11): X_p3_r2_t11, (3, 2, 12): X_p3_r2_t12, (3, 2, 13): X_p3_r2_t13, (3, 2, 14): X_p3_r2_t14, (3, 2, 15): X_p3_r2_t15, (3, 2, 16): X_p3_r2_t16, (3, 2, 17): X_p3_r2_t17, (3, 2, 18): X_p3_r2_t18, (3, 2, 19): X_p3_r2_t19}\n"
     ]
    }
   ],
   "source": [
    "# variables definition\n",
    "\n",
    "X = {}\n",
    "for p in range(nb_projects):\n",
    "    for r in range(nb_resources):\n",
    "        for t in range(total_time_slots):\n",
    "            X[(p, r, t)] = solver.BoolVar(f\"X_p{p}_r{r}_t{t}\")\n",
    "S = {}\n",
    "F = {}\n",
    "for p in range(nb_projects):\n",
    "    S[(p)] = solver.IntVar(0, total_time_slots, f\"S_p{p}\")\n",
    "    F[(p)] = solver.IntVar(0, total_time_slots, f\"F_p{p}\")\n",
    "\n",
    "Y = solver.IntVar(0, total_time_slots, f\"Y\")\n",
    "print(X)"
   ]
  },
  {
   "cell_type": "code",
   "execution_count": 47,
   "metadata": {},
   "outputs": [
    {
     "name": "stdout",
     "output_type": "stream",
     "text": [
      "Number of variables = 249\n"
     ]
    }
   ],
   "source": [
    "print(\"Number of variables =\", solver.NumVariables())\n"
   ]
  },
  {
   "cell_type": "code",
   "execution_count": 48,
   "metadata": {},
   "outputs": [],
   "source": [
    "# Define the objective function\n",
    "objective = solver.Objective()\n",
    "objective.SetCoefficient(Y, 1)\n",
    "objective.SetMinimization()\n"
   ]
  },
  {
   "cell_type": "code",
   "execution_count": 49,
   "metadata": {},
   "outputs": [],
   "source": [
    "# constraint 1\n",
    "# Define constraint: Total working time for each project respect the request\n",
    "for p in range(nb_projects):\n",
    "    solver.Add(sum(X[(p, r, t)] for r in range(nb_resources) for t in range(total_time_slots)) == projects[p].requested_slots)\n",
    "\n",
    "# constraint 2\n",
    "for p in range(nb_projects):\n",
    "    for t in range(total_time_slots):\n",
    "        solver.Add(t * X[(p, r, t)] <= F[p])\n",
    "\n",
    "# constraint 3\n",
    "for p in range(nb_projects):\n",
    "    for t in range(total_time_slots):\n",
    "        solver.Add(S[p] <= t*X[(p, r, t)]+(1-X[(p, r, t)])*99*total_time_slots)\n",
    "\n",
    "# constraint 4\n",
    "# constraint assign lower bound of y\n",
    "for r in range(nb_resources):\n",
    "    for p in range(nb_projects):\n",
    "        for t in range(total_time_slots):\n",
    "            solver.Add(t * X[(p, r, t)] <= Y)\n",
    "\n",
    "# constraint 5\n",
    "for p in range(nb_projects):\n",
    "    solver.Add(F[p]-S[p]+1 <= projects[p].requested_slots*squash_factor)\n",
    "\n",
    "# constraint 6\n",
    "# constraints no double booking\n",
    "for r in range(nb_resources):\n",
    "    for t in range(total_time_slots):\n",
    "        solver.Add(sum(X[(p, r, t)] for p in range(nb_projects)) <= 1)"
   ]
  },
  {
   "cell_type": "code",
   "execution_count": 50,
   "metadata": {},
   "outputs": [
    {
     "name": "stdout",
     "output_type": "stream",
     "text": [
      "468\n"
     ]
    }
   ],
   "source": [
    "print(solver.NumConstraints())"
   ]
  },
  {
   "cell_type": "code",
   "execution_count": 51,
   "metadata": {},
   "outputs": [
    {
     "data": {
      "text/plain": [
       "0"
      ]
     },
     "execution_count": 51,
     "metadata": {},
     "output_type": "execute_result"
    }
   ],
   "source": [
    "solver.Solve()"
   ]
  },
  {
   "cell_type": "code",
   "execution_count": 52,
   "metadata": {},
   "outputs": [
    {
     "name": "stdout",
     "output_type": "stream",
     "text": [
      "Objective value = 5.0\n",
      "p=0 S 1.0  F: 4.0\n",
      "p=1 S: 0.0  F: 4.0\n",
      "p=2 S: 1.0  F: 3.0\n",
      "p=3 S: 1.0  F: 4.0\n",
      "Y = 5.0\n",
      "project:  0 resource: 0  time: 1\n",
      "project:  0 resource: 0  time: 2\n",
      "project:  0 resource: 0  time: 3\n",
      "project:  0 resource: 0  time: 5\n",
      "project:  1 resource: 1  time: 1\n",
      "project:  1 resource: 1  time: 3\n",
      "project:  1 resource: 1  time: 4\n",
      "project:  1 resource: 1  time: 5\n",
      "project:  1 resource: 2  time: 0\n",
      "project:  2 resource: 0  time: 0\n",
      "project:  2 resource: 0  time: 4\n",
      "project:  2 resource: 1  time: 0\n",
      "project:  3 resource: 1  time: 2\n",
      "project:  3 resource: 2  time: 1\n",
      "project:  3 resource: 2  time: 2\n",
      "project:  3 resource: 2  time: 4\n"
     ]
    }
   ],
   "source": [
    "print('Objective value =', solver.Objective().Value())\n",
    "print('p=0 S', S[0].solution_value(), \" F:\",F[0].solution_value())\n",
    "print('p=1 S:', S[1].solution_value(), \" F:\",F[1].solution_value())\n",
    "print('p=2 S:', S[2].solution_value(), \" F:\",F[2].solution_value())\n",
    "print('p=3 S:', S[3].solution_value(), \" F:\",F[3].solution_value())\n",
    "\n",
    "print('Y =', Y.solution_value())\n",
    "\n",
    "for p in range(nb_projects):\n",
    "    for r in range(nb_resources):\n",
    "        for t in range(total_time_slots):\n",
    "            if(X[(p, r, t)].solution_value() == 1.0):\n",
    "                print(\"project: \", p, \"resource:\", r, \" time:\",t)\n",
    "\n",
    "#print(assignation[2,0,0].solution_value())\n",
    "\n",
    "\n",
    "\n"
   ]
  },
  {
   "cell_type": "code",
   "execution_count": 76,
   "metadata": {},
   "outputs": [
    {
     "name": "stdout",
     "output_type": "stream",
     "text": [
      "    0   1   2   3   4\n",
      "0 NaN NaN NaN NaN NaN\n",
      "    0   1   2   3   4\n",
      "0 NaN NaN NaN NaN NaN\n",
      "1 NaN NaN NaN NaN NaN\n",
      "    0   1   2   3   4\n",
      "0 NaN NaN NaN NaN NaN\n",
      "1 NaN NaN NaN NaN NaN\n",
      "    0   1   2   3   4\n",
      "0 NaN NaN NaN NaN NaN\n",
      "1 NaN NaN NaN NaN NaN\n",
      "5\n",
      "{1, 2}\n"
     ]
    }
   ],
   "source": [
    "# visualize solution\n",
    "from typing import Set\n",
    "import pandas as pd\n",
    "\n",
    "\n",
    "max_time_slot = int(Y.solution_value())\n",
    "\n",
    "for p in range(nb_projects):\n",
    "    resources_x_project_p:Set[int] = set()\n",
    "    for r in range(nb_resources):\n",
    "        for t in range(total_time_slots):\n",
    "            if(X[(p, r, t)].solution_value() == 1.0):\n",
    "                resources_x_project_p.add(r)\n",
    "                if t > max_time_slot:\n",
    "                    max_time_slot = t\n",
    "                #print(\"project: \", p, \"resource:\", r, \" time:\",t)\n",
    "    df = pd.DataFrame(np.nan, index=range(len(resources_x_project_p)), columns=range(max_time_slot))\n",
    "    print(df)\n",
    "\n",
    "print(max_time_slot)\n",
    "print(resources_x_project_p)\n",
    "\n",
    "\n",
    "\n",
    "\n",
    "\n",
    "\n"
   ]
  }
 ],
 "metadata": {
  "kernelspec": {
   "display_name": "Python 3",
   "language": "python",
   "name": "python3"
  },
  "language_info": {
   "codemirror_mode": {
    "name": "ipython",
    "version": 3
   },
   "file_extension": ".py",
   "mimetype": "text/x-python",
   "name": "python",
   "nbconvert_exporter": "python",
   "pygments_lexer": "ipython3",
   "version": "3.10.12"
  }
 },
 "nbformat": 4,
 "nbformat_minor": 2
}
