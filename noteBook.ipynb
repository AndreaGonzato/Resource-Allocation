{
 "cells": [
  {
   "cell_type": "code",
   "execution_count": 1,
   "metadata": {},
   "outputs": [],
   "source": [
    "from Resource import Resource\n",
    "from TimeTable import TimeTable\n",
    "from Event import Event\n",
    "from Role import Role\n",
    "\n",
    "from ortools.linear_solver import pywraplp"
   ]
  },
  {
   "cell_type": "code",
   "execution_count": 2,
   "metadata": {},
   "outputs": [
    {
     "name": "stdout",
     "output_type": "stream",
     "text": [
      "[Arturo, Ben, Giovanni]\n",
      "slot\\day:\t0\t1\t2\t3\t4\n",
      "slot: 0\t\t0\t0\t0\t-1\t0\n",
      "slot: 1\t\t0\t0\t0\t-1\t0\n",
      "slot\\day:\t0\t1\t2\t3\t4\n",
      "slot: 0\t\t0\t0\t0\t0\t0\n",
      "slot: 1\t\t0\t0\t-1\t0\t0\n",
      "slot\\day:\t0\t1\t2\t3\t4\n",
      "slot: 0\t\t0\t0\t0\t0\t0\n",
      "slot: 1\t\t0\t0\t0\t0\t0\n"
     ]
    }
   ],
   "source": [
    "\n",
    "time_table = TimeTable(days=5, slots_per_day=2)\n",
    "\n",
    "arturo = Resource(\"Arturo\")\n",
    "ben = Resource(\"Ben\")\n",
    "giovanni = Resource(\"Giovanni\")\n",
    "resources = [arturo, ben, giovanni]\n",
    "\n",
    "for resource in resources:\n",
    "    resource.init_calendar(days=5, slots_per_day=2)\n",
    "\n",
    "\n",
    "\n",
    "print(resources)\n",
    "\n",
    "\n",
    "#set unavailability\n",
    "arturo.set_unavailability(day=3, slot_index=0)\n",
    "arturo.set_unavailability(day=3, slot_index=1)\n",
    "\n",
    "ben.set_unavailability(day=2, slot_index=1)\n",
    "\n",
    "\"\"\"\n",
    "arturo.calendar.print_calendar()\n",
    "ben.calendar.print_calendar()\n",
    "giovanni.calendar.print_calendar()\n",
    "\"\"\"\n"
   ]
  },
  {
   "cell_type": "code",
   "execution_count": 3,
   "metadata": {},
   "outputs": [],
   "source": [
    "event1 = Event(\"event1\", [arturo, ben])\n",
    "event2 = Event(\"event2\", [arturo, giovanni])"
   ]
  },
  {
   "cell_type": "code",
   "execution_count": 4,
   "metadata": {},
   "outputs": [],
   "source": [
    "# define the solver\n",
    "solver = pywraplp.Solver.CreateSolver(\"BOP\")\n",
    "solver = pywraplp.Solver.CreateSolver(\"SCIP\")\n"
   ]
  },
  {
   "cell_type": "code",
   "execution_count": 5,
   "metadata": {},
   "outputs": [],
   "source": [
    "# define the variables"
   ]
  },
  {
   "cell_type": "code",
   "execution_count": 6,
   "metadata": {},
   "outputs": [
    {
     "name": "stdout",
     "output_type": "stream",
     "text": [
      "Number of variables = 2\n",
      "Number of constraints = 3\n",
      "Solution:\n",
      "Objective value = 33.99999999999999\n",
      "x = 5.999999999999998\n",
      "y = 3.9999999999999996\n",
      "\n",
      "Advanced usage:\n",
      "Problem solved in 24.000000 milliseconds\n",
      "Problem solved in 2 iterations\n"
     ]
    }
   ],
   "source": [
    "\"\"\"Linear programming sample.\"\"\"\n",
    "# Instantiate a Glop solver, naming it LinearExample.\n",
    "solver = pywraplp.Solver.CreateSolver(\"GLOP\")\n",
    "if not solver:\n",
    "    print(\"ERROR\")\n",
    "\n",
    "# Create the two variables and let them take on any non-negative value.\n",
    "x = solver.NumVar(0, solver.infinity(), \"x\")\n",
    "y = solver.NumVar(0, solver.infinity(), \"y\")\n",
    "\n",
    "print(\"Number of variables =\", solver.NumVariables())\n",
    "\n",
    "# Constraint 0: x + 2y <= 14.\n",
    "solver.Add(x + 2 * y <= 14.0)\n",
    "\n",
    "# Constraint 1: 3x - y >= 0.\n",
    "solver.Add(3 * x - y >= 0.0)\n",
    "\n",
    "# Constraint 2: x - y <= 2.\n",
    "solver.Add(x - y <= 2.0)\n",
    "\n",
    "print(\"Number of constraints =\", solver.NumConstraints())\n",
    "\n",
    "# Objective function: 3x + 4y.\n",
    "solver.Maximize(3 * x + 4 * y)\n",
    "\n",
    "# Solve the system.\n",
    "status = solver.Solve()\n",
    "\n",
    "if status == pywraplp.Solver.OPTIMAL:\n",
    "    print(\"Solution:\")\n",
    "    print(\"Objective value =\", solver.Objective().Value())\n",
    "    print(\"x =\", x.solution_value())\n",
    "    print(\"y =\", y.solution_value())\n",
    "else:\n",
    "    print(\"The problem does not have an optimal solution.\")\n",
    "\n",
    "print(\"\\nAdvanced usage:\")\n",
    "print(\"Problem solved in %f milliseconds\" % solver.wall_time())\n",
    "print(\"Problem solved in %d iterations\" % solver.iterations())\n",
    "\n"
   ]
  }
 ],
 "metadata": {
  "kernelspec": {
   "display_name": "Python 3",
   "language": "python",
   "name": "python3"
  },
  "language_info": {
   "codemirror_mode": {
    "name": "ipython",
    "version": 3
   },
   "file_extension": ".py",
   "mimetype": "text/x-python",
   "name": "python",
   "nbconvert_exporter": "python",
   "pygments_lexer": "ipython3",
   "version": "3.10.12"
  }
 },
 "nbformat": 4,
 "nbformat_minor": 2
}
